{
 "cells": [
  {
   "cell_type": "code",
   "execution_count": 34,
   "id": "0daae28e",
   "metadata": {},
   "outputs": [
    {
     "name": "stdout",
     "output_type": "stream",
     "text": [
      "0 44.7\n",
      "1 26.3\n",
      "2 16.9\n",
      "3 3.5\n",
      "4 5.4\n",
      "5 3.2\n"
     ]
    }
   ],
   "source": [
    "from collections import Counter, defaultdict\n",
    "from categorise import categorise\n",
    "import numpy as np\n",
    "import unidecode\n",
    "\n",
    "\n",
    "classes = Counter()\n",
    "lengths = defaultdict(list)\n",
    "umlaut = Counter()\n",
    "total = Counter()\n",
    "gender = Counter()\n",
    "length = Counter()\n",
    "\n",
    "for dataset in [\"train\", \"val\", \"test\"]:\n",
    "    with open(f\"wiktionary_{dataset}.src\", encoding=\"utf-8\") as f_src, \\\n",
    "         open(f\"wiktionary_{dataset}.tgt\", encoding=\"utf-8\") as f_tgt:\n",
    "        for src, tgt in zip(f_src, f_tgt):\n",
    "            cat = categorise(src.strip(), tgt.strip())\n",
    "            if cat == 6:\n",
    "                cat = 5\n",
    "            classes[cat] += 1\n",
    "            lengths[cat].append(len(src.strip().split()) - 2)\n",
    "            total[cat] += 1\n",
    "            gender[src.split()[0]] += 1\n",
    "            length[dataset] += 1\n",
    "\n",
    "for x in [0, 1, 2, 3, 4, 5]:\n",
    "    print(x, round(classes[x] / sum(classes.values()) * 100, 1))"
   ]
  },
  {
   "cell_type": "code",
   "execution_count": 35,
   "id": "2008a715",
   "metadata": {},
   "outputs": [
    {
     "name": "stdout",
     "output_type": "stream",
     "text": [
      "0 11.7\n",
      "1 11.0\n",
      "2 11.3\n",
      "3 10.4\n",
      "4 8.0\n",
      "5 10.6\n"
     ]
    }
   ],
   "source": [
    "for x in [0, 1, 2, 3, 4, 5]:\n",
    "    print(x, round(np.mean(lengths[x]), 1))"
   ]
  },
  {
   "cell_type": "code",
   "execution_count": 36,
   "id": "1872e4b7",
   "metadata": {},
   "outputs": [
    {
     "name": "stdout",
     "output_type": "stream",
     "text": [
      "<n> 11118\n",
      "<m> 22879\n",
      "<f> 25098\n"
     ]
    }
   ],
   "source": [
    "for x in gender:\n",
    "    print(x, gender[x])"
   ]
  },
  {
   "cell_type": "code",
   "execution_count": 37,
   "id": "8b0fa9ca",
   "metadata": {},
   "outputs": [
    {
     "name": "stdout",
     "output_type": "stream",
     "text": [
      "train 45976\n",
      "val 6548\n",
      "test 6571\n"
     ]
    }
   ],
   "source": [
    "for x in length:\n",
    "    print(x, length[x])"
   ]
  },
  {
   "cell_type": "code",
   "execution_count": 39,
   "id": "8a6df6a8",
   "metadata": {},
   "outputs": [
    {
     "name": "stdout",
     "output_type": "stream",
     "text": [
      "4.583333333333333\n"
     ]
    }
   ],
   "source": [
    "lengths = []\n",
    "\n",
    "with open(\"nonce/nonce_f.src\", encoding=\"utf-8\") as f:\n",
    "    for line in f:\n",
    "        lengths.append(len(line.split()[1:-1]))\n",
    "\n",
    "print(np.mean(lengths))"
   ]
  },
  {
   "cell_type": "code",
   "execution_count": null,
   "id": "5ba00351",
   "metadata": {},
   "outputs": [],
   "source": []
  }
 ],
 "metadata": {
  "kernelspec": {
   "display_name": "Python 3 (ipykernel)",
   "language": "python",
   "name": "python3"
  },
  "language_info": {
   "codemirror_mode": {
    "name": "ipython",
    "version": 3
   },
   "file_extension": ".py",
   "mimetype": "text/x-python",
   "name": "python",
   "nbconvert_exporter": "python",
   "pygments_lexer": "ipython3",
   "version": "3.8.0"
  }
 },
 "nbformat": 4,
 "nbformat_minor": 5
}
