{
 "cells": [
  {
   "cell_type": "markdown",
   "id": "challenging-grammar",
   "metadata": {},
   "source": [
    "## 1. Use adapted variant of the categorise function"
   ]
  },
  {
   "cell_type": "code",
   "execution_count": 3,
   "id": "oriental-mason",
   "metadata": {},
   "outputs": [],
   "source": [
    "import matplotlib.pyplot as plt\n",
    "import seaborn as sns\n",
    "from collections import Counter, defaultdict\n",
    "import unidecode\n",
    "sns.set_context(\"talk\")\n",
    "\n",
    "\n",
    "def categorise(source, target):\n",
    "    \"\"\"\n",
    "    Return a numerical label indicating inflection class.\n",
    "\n",
    "    Args:\n",
    "        source (str): source with gender as first character (\"<f> k a t z e \")\n",
    "        target (str): (predicted) target\n",
    "\n",
    "    Returns:\n",
    "        int indicating class, ranges from 0 - 6\n",
    "    \"\"\"\n",
    "    assert \"<\" in source.split()[0], \"Your source sequence has no gender tag!\"\n",
    "\n",
    "    source = source.replace(\" </s>\", \"\")\n",
    "    target = target.replace(\" </s>\", \"\")\n",
    "    source = unidecode.unidecode(source).split()[1:]\n",
    "    target = unidecode.unidecode(target).split()\n",
    "\n",
    "    # zero or epsilon\n",
    "    if target == source:\n",
    "        category = 2\n",
    "    else:\n",
    "        # (e)n\n",
    "        if source[-1] != \"n\" and target[-1:] == [\"n\"]:\n",
    "            category = 0\n",
    "        # e\n",
    "        elif source[-1] != \"e\" and target[-1:] == [\"e\"]:\n",
    "            category = 1\n",
    "        # e r\n",
    "        elif source[-2:] != [\"e\", \"r\"] and target[-2:] == [\"e\", \"r\"]:\n",
    "            category = 3\n",
    "        # s\n",
    "        elif source[-1] != \"s\" and target[-1:] == [\"s\"]:\n",
    "            category = 4\n",
    "        # repeated input but odd suffix\n",
    "        else:\n",
    "            category = 5\n",
    "    return category\n"
   ]
  },
  {
   "cell_type": "markdown",
   "id": "corporate-auction",
   "metadata": {},
   "source": [
    "## 2. Visualise!"
   ]
  },
  {
   "cell_type": "code",
   "execution_count": 4,
   "id": "confidential-biodiversity",
   "metadata": {},
   "outputs": [
    {
     "data": {
      "text/plain": [
       "<Figure size 432x288 with 0 Axes>"
      ]
     },
     "metadata": {},
     "output_type": "display_data"
    },
    {
     "data": {
      "image/png": "[encoded data removed]",
      "text/plain": [
       "<Figure size 216x216 with 1 Axes>"
      ]
     },
     "metadata": {
      "needs_background": "light"
     },
     "output_type": "display_data"
    }
   ],
   "source": [
    "import pandas as pd\n",
    "import unidecode\n",
    "import numpy as np\n",
    "from matplotlib.colors import ListedColormap\n",
    "from colormap import rgb2hex\n",
    "\n",
    "\n",
    "def combine_hex_values(d):\n",
    "    d_items = sorted(d.items())\n",
    "    tot_weight = sum(d.values())\n",
    "    red = int(sum([int(k[:2], 16)*v for k, v in d_items])/tot_weight)\n",
    "    green = int(sum([int(k[2:4], 16)*v for k, v in d_items])/tot_weight)\n",
    "    blue = int(sum([int(k[4:6], 16)*v for k, v in d_items])/tot_weight)\n",
    "    zpad = lambda x: x if len(x)==2 else '0' + x\n",
    "    return zpad(hex(red)[2:]) + zpad(hex(green)[2:]) + zpad(hex(blue)[2:])\n",
    "\n",
    "\n",
    "data = dict()\n",
    "for setup, name in [(\"\", \"regular\"), (\"_see\", \"see\"),\n",
    "                    (\"_haupt\", \"haupt\"),\n",
    "                    (\"_lieblings\", \"lieblings\")]:\n",
    "    lengths = []\n",
    "    counts = Counter()\n",
    "    for seed in range(1, 6):\n",
    "        filename = f\"../opennmt/models/seed={seed}_wiktionary/length/lstms2s_length{setup}_25.prd\"\n",
    "        with open(f\"../wiktionary/s_length{setup}.src\", encoding=\"utf-8\") as f_src, \\\n",
    "             open(filename, encoding=\"utf-8\") as f_prd:\n",
    "            for src, tgt in zip(f_src, f_prd):\n",
    "                lengths.append(len(src.split()))\n",
    "                cat = categorise(src, tgt)\n",
    "                if cat == 6:\n",
    "                    cat = 5\n",
    "                counts[cat] += 1\n",
    "    data[name] = {x: counts[x] / (17 * 6 * 5) * 100 for x in range(6)}\n",
    "\n",
    "fig = plt.figure()\n",
    "a = pd.DataFrame(data)\n",
    "colours = sns.color_palette(\"Spectral\", 5) + [(211/255, 211/255, 211/255)]\n",
    "colours2 = sns.color_palette(\"Spectral\", 5) + [(211/255, 211/255, 211/255)]\n",
    "colours[2] = \"purple\"\n",
    "\n",
    "ax = a.T.plot(kind=\"bar\", stacked=True, colormap=ListedColormap(colours), alpha=0.7,\n",
    "              figsize=(3, 3))\n",
    "ax.set_xticklabels(a.keys())\n",
    "plt.ylabel(\"\")\n",
    "ax.set_yticks([0, 25, 50, 75, 100])\n",
    "ax.set_yticklabels([0, 25, 50, 75, 100])\n",
    "\n",
    "# Define some hatches\n",
    "hatches = ['--'] * 4 + ['//'] * 4 + [''] * 4 + \\\n",
    "          ['\\\\\\\\'] * 4 + ['..'] * 4 + ['++'] * 4\n",
    "\n",
    "# Add the hatches\n",
    "for i, thisbar in enumerate(ax.patches):\n",
    "    a, b, c = colours2[int(i/4)]\n",
    "    c = rgb2hex(int(a*255), int(b*255), int(255*c)).replace('#', '')\n",
    "    thisbar.set_hatch(hatches[i])\n",
    "    thisbar.set_edgecolor(\"#\" + combine_hex_values({\"000000\": 0.1, c: 0.9}))\n",
    "    thisbar.set_linewidth(0)\n",
    "\n",
    "plt.ylabel(\"% of samples\")\n",
    "plt.ylim(0, 100)\n",
    "sns.despine(bottom=True, right=True, top=True)\n",
    "plt.legend(frameon=False, bbox_to_anchor=(1, 1.05), labels=[\"-(e)n\", \"-e\", r\"-$\\o$\", \"-er\", \"-s\", \"-?\"])\n",
    "plt.savefig(f\"figures/s_length.pdf\", bbox_inches=\"tight\",\n",
    "            facecolor=fig.get_facecolor(), edgecolor=\"black\")\n",
    "plt.show()"
   ]
  },
  {
   "cell_type": "code",
   "execution_count": null,
   "id": "regulation-father",
   "metadata": {},
   "outputs": [],
   "source": []
  }
 ],
 "metadata": {
  "kernelspec": {
   "display_name": "Python 3",
   "language": "python",
   "name": "python3"
  },
  "language_info": {
   "codemirror_mode": {
    "name": "ipython",
    "version": 3
   },
   "file_extension": ".py",
   "mimetype": "text/x-python",
   "name": "python",
   "nbconvert_exporter": "python",
   "pygments_lexer": "ipython3",
   "version": "3.7.1"
  }
 },
 "nbformat": 4,
 "nbformat_minor": 5
}
