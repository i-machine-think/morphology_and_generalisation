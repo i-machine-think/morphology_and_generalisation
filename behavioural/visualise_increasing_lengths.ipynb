{
 "cells": [
  {
   "cell_type": "markdown",
   "id": "challenging-grammar",
   "metadata": {},
   "source": [
    "## 1. Use adapted variant of the categorise function"
   ]
  },
  {
   "cell_type": "code",
   "execution_count": 6,
   "id": "oriental-mason",
   "metadata": {},
   "outputs": [],
   "source": [
    "import matplotlib.pyplot as plt\n",
    "import seaborn as sns\n",
    "from collections import Counter, defaultdict\n",
    "import unidecode\n",
    "sns.set_context(\"talk\")\n",
    "\n",
    "\n",
    "def categorise(source, target):\n",
    "    \"\"\"\n",
    "    Return a numerical label indicating inflection class.\n",
    "\n",
    "    Args:\n",
    "        source (str): source with gender as first character (\"<f> k a t z e \")\n",
    "        target (str): (predicted) target\n",
    "\n",
    "    Returns:\n",
    "        int indicating class, ranges from 0 - 6\n",
    "    \"\"\"\n",
    "    assert \"<\" in source.split()[0], \"Your source sequence has no gender tag!\"\n",
    "\n",
    "    source = source.replace(\" </s>\", \"\")\n",
    "    target = target.replace(\" </s>\", \"\")\n",
    "    source = unidecode.unidecode(source).split()[1:]\n",
    "    target = unidecode.unidecode(target).split()\n",
    "\n",
    "    # zero or epsilon\n",
    "    if target == source:\n",
    "        category = 2\n",
    "    else:\n",
    "        # (e)n\n",
    "        if source[-1] != \"n\" and target[-1:] == [\"n\"]:\n",
    "            category = 0\n",
    "        # e\n",
    "        elif source[-1] != \"e\" and target[-1:] == [\"e\"]:\n",
    "            category = 1\n",
    "        # e r\n",
    "        elif source[-2:] != [\"e\", \"r\"] and target[-2:] == [\"e\", \"r\"]:\n",
    "            category = 3\n",
    "        # s\n",
    "        elif source[-1] != \"s\" and target[-1:] == [\"s\"]:\n",
    "            category = 4\n",
    "        # repeated input but odd suffix\n",
    "        else:\n",
    "            category = 5\n",
    "    return category\n"
   ]
  },
  {
   "cell_type": "markdown",
   "id": "corporate-auction",
   "metadata": {},
   "source": [
    "## 2. Visualise!"
   ]
  },
  {
   "cell_type": "code",
   "execution_count": 7,
   "id": "confidential-biodiversity",
   "metadata": {},
   "outputs": [
    {
     "data": {
      "image/png": "[encoded data removed]",
      "text/plain": [
       "<Figure size 288x216 with 1 Axes>"
      ]
     },
     "metadata": {
      "needs_background": "light"
     },
     "output_type": "display_data"
    }
   ],
   "source": [
    "import pandas as pd\n",
    "import unidecode\n",
    "import numpy as np\n",
    "import enchant\n",
    "from matplotlib.colors import ListedColormap\n",
    "d = enchant.Dict(\"en_US\")\n",
    "\n",
    "data = dict()\n",
    "for setup, name in [(\"\", \"regular\"), (\"_see\", \"see\"), #(\"_not\", \"not\"),\n",
    "                    (\"_haupt\", \"haupt\"),\n",
    "                    (\"_lieblings\", \"lieblings\")]:\n",
    "\n",
    "    lengths = []\n",
    "    for epoch in [25]:\n",
    "        counts = Counter()\n",
    "        for seed in range(1, 6):\n",
    "            with open(f\"../wiktionary/s_length{setup}.src\", encoding=\"utf-8\") as f_src, \\\n",
    "                 open(f\"../opennmt/models/seed={seed}_wiktionary/length/lstms2s_length{setup}_{epoch}.prd\", encoding=\"utf-8\") as f_prd:\n",
    "                for src, tgt in zip(f_src, f_prd):\n",
    "                    lengths.append(len(src.split()))\n",
    "                    cat = categorise(src, tgt)\n",
    "                    if cat == 6:\n",
    "                        cat = 5\n",
    "                    counts[cat] += 1\n",
    "        data[name] = {x: counts[x] / (17 * 6 * 5) * 100 for x in range(6)}\n",
    "\n",
    "a = pd.DataFrame(data)\n",
    "colours = sns.color_palette(\"Spectral\", 5) + [\"lightgrey\"]\n",
    "colours[2] = \"purple\"\n",
    "\n",
    "ax = a.T.plot(kind=\"bar\", stacked=True, colormap=ListedColormap(colours), alpha=0.7,\n",
    "              figsize=(4, 3))\n",
    "ax.set_xticklabels(a.keys())\n",
    "plt.ylabel(\"%\")\n",
    "sns.despine(bottom=True, right=True, top=True)\n",
    "plt.legend(frameon=False, bbox_to_anchor=(1, 1.05), labels=[\"-(e)n\", \"-e\", r\"-$\\o$\", \"-er\", \"-s\", \"-?\"])\n",
    "plt.savefig(f\"figures/s_length.pdf\", bbox_inches=\"tight\")"
   ]
  },
  {
   "cell_type": "code",
   "execution_count": null,
   "id": "ideal-decade",
   "metadata": {},
   "outputs": [],
   "source": []
  }
 ],
 "metadata": {
  "kernelspec": {
   "display_name": "Python 3",
   "language": "python",
   "name": "python3"
  },
  "language_info": {
   "codemirror_mode": {
    "name": "ipython",
    "version": 3
   },
   "file_extension": ".py",
   "mimetype": "text/x-python",
   "name": "python",
   "nbconvert_exporter": "python",
   "pygments_lexer": "ipython3",
   "version": "3.7.1"
  }
 },
 "nbformat": 4,
 "nbformat_minor": 5
}
